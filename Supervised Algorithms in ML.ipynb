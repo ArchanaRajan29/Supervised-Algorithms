{
 "cells": [
  {
   "cell_type": "markdown",
   "metadata": {},
   "source": [
    "### Supervised Algorithms in ML"
   ]
  },
  {
   "cell_type": "code",
   "execution_count": 1,
   "metadata": {},
   "outputs": [],
   "source": [
    "import pandas as pd\n",
    "import matplotlib.pyplot as plt\n",
    "import matplotlib\n",
    "import seaborn as sns\n",
    "import numpy as np\n",
    "%matplotlib inline\n",
    "\n",
    "from sklearn.model_selection import train_test_split\n",
    "from sklearn.metrics import accuracy_score\n",
    "from sklearn.metrics import classification_report \n",
    "from sklearn.linear_model import SGDClassifier\n",
    "from sklearn.svm import SVC"
   ]
  },
  {
   "cell_type": "code",
   "execution_count": 2,
   "metadata": {},
   "outputs": [],
   "source": [
    "# Read file\n",
    "df = pd.read_csv(\".csv\")"
   ]
  },
  {
   "cell_type": "code",
   "execution_count": null,
   "metadata": {},
   "outputs": [],
   "source": [
    "df.info()"
   ]
  },
  {
   "cell_type": "code",
   "execution_count": null,
   "metadata": {},
   "outputs": [],
   "source": [
    "df.head()"
   ]
  },
  {
   "cell_type": "code",
   "execution_count": 5,
   "metadata": {},
   "outputs": [],
   "source": [
    "# split dataset in features and target variable\n",
    "# Features\n",
    "X = df.drop(columns=[\"y\"])  # replace y with your target variable\n",
    "\n",
    "# Target variable\n",
    "y = df['y'] "
   ]
  },
  {
   "cell_type": "code",
   "execution_count": 6,
   "metadata": {},
   "outputs": [],
   "source": [
    "# import sklearn packages for data treatments\n",
    "from sklearn.model_selection import train_test_split # Import train_test_split function\n",
    "\n",
    "# Split dataset into training set and test set\n",
    "X_train, X_test, y_train, y_test = train_test_split(X, y, test_size=0.2, random_state=1) # 80% training and 20% test\n"
   ]
  },
  {
   "cell_type": "code",
   "execution_count": 9,
   "metadata": {},
   "outputs": [],
   "source": [
    "from sklearn.neighbors import KNeighborsClassifier\n",
    "from sklearn.tree import DecisionTreeClassifier # Import Decision Tree Classifier\n",
    "from sklearn.svm import SVC\n",
    "from sklearn.ensemble import RandomForestClassifier\n",
    "from sklearn.metrics import classification_report\n",
    "from sklearn.linear_model import LogisticRegression\n",
    "from sklearn.naive_bayes import GaussianNB\n",
    "from sklearn import metrics #Import scikit-learn metrics module for accuracy calculation\n",
    "from sklearn.preprocessing import StandardScaler # Import for standard scaling of the data\n",
    "from sklearn.preprocessing import MinMaxScaler # Import for standard scaling of the data\n",
    "# standard scale data\n",
    "ss = StandardScaler()\n",
    "X_train_scaled = ss.fit_transform(X_train)\n",
    "X_test_scaled = ss.transform(X_test)\n",
    "\n",
    "# tested MinMaxScaler as KNN historically does better with MinMax\n",
    "mm = MinMaxScaler()\n",
    "X_train_mm_scaled = ss.fit_transform(X_train)\n",
    "X_test_mm_scaled = ss.transform(X_test)\n",
    "\n",
    "# program to run multilple models though sklearn \n",
    "# Default settings output accuracy and classification report\n",
    "# compares accuracy for scaled and unscaled data\n",
    "def run_models(X_train: pd.DataFrame , y_train: pd.DataFrame, X_test: pd.DataFrame, y_test: pd.DataFrame):\n",
    "    models = [('naive_bayes', GaussianNB()),\n",
    "        ('Logistic Regression', LogisticRegression()),\n",
    "        ('KNN', KNeighborsClassifier()),\n",
    "        ('Random Forest', RandomForestClassifier(random_state=2020)),\n",
    "        ('SVM', SVC(C=1000, gamma=1, kernel='linear')),\n",
    "        ('Decision Tree', DecisionTreeClassifier())\n",
    "        ]  \n",
    "    \n",
    "    for name, model in models:        \n",
    "        # unscaled data\n",
    "        clf = model.fit(X_train, y_train)\n",
    "        y_pred = clf.predict(X_test)\n",
    "        \n",
    "        # scaled data\n",
    "        clf_scaled = model.fit(X_train_scaled, y_train)\n",
    "        y_pred_scaled = clf_scaled.predict(X_test_scaled)\n",
    "        \n",
    "        # mm scaled data\n",
    "        clf_mm_scaled = model.fit(X_train_mm_scaled, y_train)\n",
    "        y_pred_mm_scaled = clf_scaled.predict(X_test_mm_scaled)\n",
    "        \n",
    "        # accuracy scores\n",
    "        accuracy = round(metrics.accuracy_score(y_test, y_pred),5)\n",
    "        scaled_accuracy = round(metrics.accuracy_score(y_test, y_pred_scaled),5)\n",
    "        scaled_mm_accuracy = round(metrics.accuracy_score(y_test, y_pred_mm_scaled),5)\n",
    "        \n",
    "        # output\n",
    "        print(name + ':')        \n",
    "        print(\"---------------------------------------------------------------\")      \n",
    "        print(\"Accuracy:\", accuracy)\n",
    "        print(\"Accuracy w/Scaled Data (ss):\", scaled_accuracy)\n",
    "        print(\"Accuracy w/Scaled Data (mm):\", scaled_mm_accuracy)\n",
    "        if (accuracy > scaled_accuracy) and (accuracy > scaled_mm_accuracy):\n",
    "            print(\"\\nClassification Report:\\n\", metrics.classification_report(y_test, y_pred))      \n",
    "            print(\"--------------------------------------------------------------- \\n\")      \n",
    "        elif (scaled_accuracy > scaled_mm_accuracy):\n",
    "            print(\"\\nClassification Report (ss):\\n\", metrics.classification_report(y_test, y_pred_scaled))      \n",
    "            print(\"---------------------------------------------------------------\\n\")     \n",
    "        else:            \n",
    "            print(\"\\nClassification Report (mm):\\n\", metrics.classification_report(y_test, y_pred_mm_scaled))      \n",
    "            print(\"--------------------------------------------------------------- \\n\")\n",
    "        "
   ]
  },
  {
   "cell_type": "code",
   "execution_count": null,
   "metadata": {},
   "outputs": [],
   "source": [
    "run_models(X_train, y_train, X_test, y_test)"
   ]
  },
  {
   "cell_type": "code",
   "execution_count": null,
   "metadata": {},
   "outputs": [],
   "source": []
  }
 ],
 "metadata": {
  "kernelspec": {
   "display_name": "Python 3",
   "language": "python",
   "name": "python3"
  },
  "language_info": {
   "codemirror_mode": {
    "name": "ipython",
    "version": 3
   },
   "file_extension": ".py",
   "mimetype": "text/x-python",
   "name": "python",
   "nbconvert_exporter": "python",
   "pygments_lexer": "ipython3",
   "version": "3.7.9"
  }
 },
 "nbformat": 4,
 "nbformat_minor": 4
}
